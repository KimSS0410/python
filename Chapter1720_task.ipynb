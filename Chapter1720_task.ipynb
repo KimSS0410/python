{
 "cells": [
  {
   "cell_type": "markdown",
   "metadata": {
    "id": "aLkxKxnFLowa"
   },
   "source": [
    "안녕하세요. 수강생 여러분~! Chapter17 ~ 20 수업은 잘 들으셨나요?\n",
    "\n",
    "Chapter17 ~ 20의 수업 내용을 바탕으로 아래 문제를 풀어주시면 됩니다.\n",
    "\n",
    "\n",
    "<br>\n",
    "\n",
    "\n",
    "[**답변 입력 방법**]\n",
    "\n",
    "문제 아래에 있는 코드 입력창에 정답코드를 작성하신 후  __▷ 버튼을 클릭해 코드를 실행__ 해보세요<br>"
   ]
  },
  {
   "cell_type": "markdown",
   "metadata": {},
   "source": [
    "---"
   ]
  },
  {
   "cell_type": "markdown",
   "metadata": {
    "id": "pYJ1dSggLwcG"
   },
   "source": [
    "__[문제1]__\n",
    "\n",
    "print_even 리스트 내에 있는 값 중 짝수만 화면에 출력되도록 print_score 함수를 생성 후 결과값을 출력해주세요\n",
    "\n",
    "print_even ([1, 3, 2, 10, 12, 11, 15])"
   ]
  },
  {
   "cell_type": "code",
   "execution_count": null,
   "metadata": {
    "id": "PTqEeebbLmCA"
   },
   "outputs": [
    {
     "name": "stdout",
     "output_type": "stream",
     "text": [
      "2,10,12,"
     ]
    }
   ],
   "source": [
    "def print_even(num_list):                             #함수 정의(리스트 매개변수)\n",
    "    even_num = [A for A in num_list if A % 2 == 0]    #4일차 피드백에서 많이 언급된 리스트 컴프리헨션 채용, 짝수를 찾기 위한 비교연산 줄\n",
    "    for A in even_num:                                #윗줄의 리스트를 순회하며 결과가 도출되게 함 A = 2,10,12를 뽑아내는 줄\n",
    "        print(A, end = ',')                           #가로 출력을 선호함\n",
    "\n",
    "print_even([1, 3, 2, 10, 12, 11, 15])                 #최상단에 놓으니까 print_even가 정의되지 않았다고 나옴(변수 선언이 안되서 나오는 경고문인듯, 최하단으로 빼서 해결)"
   ]
  },
  {
   "cell_type": "markdown",
   "metadata": {},
   "source": [
    "---"
   ]
  },
  {
   "cell_type": "markdown",
   "metadata": {
    "id": "ZkGserEsQS0L"
   },
   "source": [
    "__[문제2]__\n",
    "\n",
    "비어있는 오즈 (oz) 클래스를 \"정의\" 해보세요."
   ]
  },
  {
   "cell_type": "code",
   "execution_count": null,
   "metadata": {
    "id": "dJbcWWlwL0iK"
   },
   "outputs": [],
   "source": [
    "class oz:       #클래스 정의\n",
    "    pass"
   ]
  },
  {
   "cell_type": "markdown",
   "metadata": {},
   "source": [
    "---"
   ]
  },
  {
   "cell_type": "markdown",
   "metadata": {
    "id": "Ofy86rZfL1Mg"
   },
   "source": [
    "__[문제3]__\n",
    "\n",
    "오즈(oz) 클래스의 인스턴스를 \"생성\" 하고 이를 coding 변수로 할당해보세요."
   ]
  },
  {
   "cell_type": "code",
   "execution_count": null,
   "metadata": {
    "id": "5NhWiuULL2Xa"
   },
   "outputs": [],
   "source": [
    "coding = oz()        #객체(인스턴스) 생성"
   ]
  },
  {
   "cell_type": "markdown",
   "metadata": {},
   "source": [
    "---"
   ]
  },
  {
   "cell_type": "markdown",
   "metadata": {
    "id": "5T6EMx8EL26b"
   },
   "source": [
    "[문제4]\n",
    "\n",
    "오즈(oz) 클래스에 \"클래스 정복\"을 출력하는 기본 생성자를 추가해주세요"
   ]
  },
  {
   "cell_type": "code",
   "execution_count": 40,
   "metadata": {
    "id": "Zq35PXA0L3-m"
   },
   "outputs": [],
   "source": [
    "class oz:\n",
    "  def __init__(self):\n",
    "    print(\"클래스 정복\")           # oz를 \"클래스 정복\"을 출력하는 __init__ 으로 정의 / 왜 첫번째는 항상 self 여야하는지 이해 해야됨 "
   ]
  },
  {
   "cell_type": "markdown",
   "metadata": {},
   "source": [
    "---"
   ]
  },
  {
   "cell_type": "markdown",
   "metadata": {
    "id": "htuycQWSL4l-"
   },
   "source": [
    "__[문제5]__\n",
    "\n",
    "오즈 (oz) 클래스에 (이름, 나이, 코딩레벨)을 받는 생성자를 추가해주세요\n",
    "\n",
    "coding = oz(\"김코\", 30, \"A\")\n"
   ]
  },
  {
   "cell_type": "code",
   "execution_count": 52,
   "metadata": {
    "id": "A7h3I8CWL5ox"
   },
   "outputs": [],
   "source": [
    "coding = oz(\"김코\", 30, \"A\")\n",
    "\n",
    "class oz:\n",
    "  def __init__(self, name, age, lv):  #init의 매개변수self 에 name, age, lv 을 집어넣는다\n",
    "    self.name = name                  #이름\n",
    "    self.age = age                    #나이\n",
    "    self.lv = lv                      #코딩레벨"
   ]
  },
  {
   "cell_type": "markdown",
   "metadata": {},
   "source": [
    "---"
   ]
  },
  {
   "cell_type": "markdown",
   "metadata": {
    "id": "ZGDLHI5xL6Bd"
   },
   "source": [
    "__[문제6]__\n",
    "\n",
    "5번 문제에서 생성한 인스턴스의 이름, 나이, 성별을 출력해주세요.\n",
    "\n",
    "\n",
    "\n",
    "출력 결과  ) <br>\n",
    "이름 : 김코  \n",
    "나이 : 30  \n",
    "코딩레벨 : A  \n",
    "\n",
    "__Tips__\n",
    "\n",
    "\n",
    "- 인스턴스 변수에 접근하여 값을 출력하면 됩니다  : )"
   ]
  },
  {
   "cell_type": "code",
   "execution_count": 53,
   "metadata": {
    "id": "qCrPejI_L8Wr"
   },
   "outputs": [
    {
     "name": "stdout",
     "output_type": "stream",
     "text": [
      "이름: 김코\n",
      "나이: 30\n",
      "코딩레벨: A\n",
      "이름: 김코\n",
      "나이: 30\n",
      "코딩레벨: A\n"
     ]
    }
   ],
   "source": [
    "#하나씩 입력\n",
    "print('이름:', coding.name)   #이름\n",
    "print('나이:', coding.age)    #나이\n",
    "print('코딩레벨:', coding.lv) #코딩레벨\n",
    "\n",
    "#f스트링\n",
    "print(f'이름: {coding.name}\\n나이: {coding.age}\\n코딩레벨: {coding.lv}')  #개행문자 \\n 사용\n"
   ]
  },
  {
   "cell_type": "markdown",
   "metadata": {},
   "source": [
    "---"
   ]
  },
  {
   "cell_type": "markdown",
   "metadata": {
    "id": "RmtPk-A1L8z4"
   },
   "source": [
    "__[문제7]__\n",
    "\n",
    "오즈 (oz) 클래스에서 이름, 나이, 성별을 출력하는 who() 메소드를 추가하고 who()메소드를 이용해 아래 출력 결과를 만들어주세요\n",
    "\n",
    "\n",
    "출력 결과 ) <br>\n",
    "이름: 김코, 나이: 30, 코딩레벨: A"
   ]
  },
  {
   "cell_type": "code",
   "execution_count": null,
   "metadata": {
    "id": "fvrvm87vL_HZ"
   },
   "outputs": [
    {
     "name": "stdout",
     "output_type": "stream",
     "text": [
      "이름:김코, 나이:30, 코딩레벨:A\n"
     ]
    }
   ],
   "source": [
    "coding = oz(\"김코\" , 30 , \"A\")                                           #메소드 호출 시 메소드를 정의하는 코드 줄은 위치가 상관이 없는건지..?\n",
    "coding.who()                                                             #궁금해서 여기저기 옮겨봤는데 최상단에 있어도, 최하단에 있어도 문제 없이 출력이 됨\n",
    "\n",
    "class oz:\n",
    "  def __init__(self, name, age, lv):  \n",
    "     self.name = name                  \n",
    "     self.age = age                    \n",
    "     self.lv = lv                      \n",
    "\n",
    "  def who(self):                                                          #who()메소드 작성시 들여쓰기를 안해서 진짜 한참을 돌아갔던 문제, 들여쓰기 확인을 잘 하자...\n",
    "    print(f\"이름:{self.name}, 나이:{self.age}, 코딩레벨:{self.lv}\")\n",
    "\n"
   ]
  }
 ],
 "metadata": {
  "colab": {
   "authorship_tag": "ABX9TyMfxSNOybrh/E7+DQqfYMY3",
   "provenance": []
  },
  "kernelspec": {
   "display_name": "Python 3",
   "name": "python3"
  },
  "language_info": {
   "codemirror_mode": {
    "name": "ipython",
    "version": 3
   },
   "file_extension": ".py",
   "mimetype": "text/x-python",
   "name": "python",
   "nbconvert_exporter": "python",
   "pygments_lexer": "ipython3",
   "version": "3.13.3"
  }
 },
 "nbformat": 4,
 "nbformat_minor": 0
}
